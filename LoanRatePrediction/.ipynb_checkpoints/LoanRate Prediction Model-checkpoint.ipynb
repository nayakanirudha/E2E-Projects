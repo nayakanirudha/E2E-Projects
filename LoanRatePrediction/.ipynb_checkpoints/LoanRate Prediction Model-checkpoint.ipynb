{
 "cells": [
  {
   "cell_type": "markdown",
   "metadata": {
    "heading_collapsed": true
   },
   "source": [
    "### Problem Statement"
   ]
  },
  {
   "cell_type": "markdown",
   "metadata": {
    "ExecuteTime": {
     "end_time": "2021-04-28T13:11:44.487026Z",
     "start_time": "2021-04-28T13:11:44.435027Z"
    },
    "hidden": true
   },
   "source": [
    "The process, defined as ‘risk-based pricing’, uses a sophisticated algorithm that leverages different determining factors of a loan applicant.Selection of significant factors will help develop a prediction algorithm which can estimate loan interest rates based on clients’ information. \n",
    "\n",
    "- On one hand, knowing the factors will help consumers and borrowers to increase their credit worthiness and place themselves in a better position to negotiate for getting a lower interest rate.\n",
    "- On the other hand, this will help lending companies to get an immediate fixed interest rate estimation based on clients information. \n",
    "\n",
    "Here, your goal is to use a training dataset to predict the loan rate category (1 / 2 / 3) that will be assigned to each loan in our test set."
   ]
  },
  {
   "cell_type": "markdown",
   "metadata": {
    "ExecuteTime": {
     "end_time": "2021-04-28T13:11:50.103595Z",
     "start_time": "2021-04-28T13:11:50.092555Z"
    },
    "heading_collapsed": true
   },
   "source": [
    "### Data Dictionary"
   ]
  },
  {
   "cell_type": "markdown",
   "metadata": {
    "ExecuteTime": {
     "end_time": "2021-04-28T13:13:04.374868Z",
     "start_time": "2021-04-28T13:13:04.164992Z"
    },
    "hidden": true
   },
   "source": [
    "! [Variable Description](DataDescription.png)"
   ]
  },
  {
   "cell_type": "markdown",
   "metadata": {
    "heading_collapsed": true
   },
   "source": [
    "### Import Libraries"
   ]
  },
  {
   "cell_type": "code",
   "execution_count": 66,
   "metadata": {
    "ExecuteTime": {
     "end_time": "2021-05-01T08:41:37.338868Z",
     "start_time": "2021-05-01T08:41:15.146818Z"
    },
    "hidden": true
   },
   "outputs": [
    {
     "name": "stdout",
     "output_type": "stream",
     "text": [
      "Collecting scikit-learn==0.24.1\n",
      "  Using cached https://files.pythonhosted.org/packages/16/33/e0b09b2810e355b667cd3b28850c36963735a77a431efdb2c2ca1c1c5cea/scikit_learn-0.24.1-cp37-cp37m-win_amd64.whl\n",
      "Requirement already satisfied: threadpoolctl>=2.0.0 in c:\\softwares\\anaconda\\lib\\site-packages (from scikit-learn==0.24.1) (2.1.0)\n",
      "Requirement already satisfied: numpy>=1.13.3 in c:\\users\\nagaraj nayak\\appdata\\roaming\\python\\python37\\site-packages (from scikit-learn==0.24.1) (1.20.2)\n",
      "Requirement already satisfied: joblib>=0.11 in c:\\softwares\\anaconda\\lib\\site-packages (from scikit-learn==0.24.1) (0.13.2)\n",
      "Requirement already satisfied: scipy>=0.19.1 in c:\\users\\nagaraj nayak\\appdata\\roaming\\python\\python37\\site-packages (from scikit-learn==0.24.1) (1.5.4)\n",
      "Installing collected packages: scikit-learn\n",
      "  Found existing installation: scikit-learn 0.24.2\n",
      "    Uninstalling scikit-learn-0.24.2:\n",
      "      Successfully uninstalled scikit-learn-0.24.2\n",
      "Successfully installed scikit-learn-0.24.1\n"
     ]
    },
    {
     "name": "stderr",
     "output_type": "stream",
     "text": [
      "ERROR: pmdarima 1.8.0 has requirement Cython<0.29.18,>=0.29, but you'll have cython 0.29.22 which is incompatible.\n"
     ]
    }
   ],
   "source": [
    "!pip install scikit-learn==0.24.1"
   ]
  },
  {
   "cell_type": "code",
   "execution_count": 68,
   "metadata": {
    "ExecuteTime": {
     "end_time": "2021-05-01T08:42:56.242299Z",
     "start_time": "2021-05-01T08:42:56.230046Z"
    },
    "hidden": true
   },
   "outputs": [],
   "source": [
    "import numpy as np\n",
    "import pandas as pd\n",
    "import seaborn as sns\n",
    "import matplotlib.pyplot as plt\n",
    "from math import sqrt\n",
    "import os\n",
    "import pickle\n",
    "\n",
    "from sklearn.preprocessing import LabelEncoder\n",
    "from sklearn import preprocessing\n",
    "from sklearn.model_selection import train_test_split\n",
    "from sklearn.model_selection import GridSearchCV, train_test_split,RandomizedSearchCV\n",
    "from sklearn.metrics import r2_score,mean_squared_error,roc_auc_score,accuracy_score\n",
    "from sklearn.model_selection import StratifiedKFold,cross_val_score,KFold,RepeatedStratifiedKFold,GridSearchCV\n",
    "\n",
    "from sklearn.linear_model import LogisticRegression\n",
    "from sklearn.ensemble import RandomForestClassifier\n",
    "\n",
    "\n",
    "import warnings\n",
    "warnings.filterwarnings('ignore')"
   ]
  },
  {
   "cell_type": "markdown",
   "metadata": {
    "heading_collapsed": true
   },
   "source": [
    "### Import Dataset"
   ]
  },
  {
   "cell_type": "code",
   "execution_count": 2,
   "metadata": {
    "ExecuteTime": {
     "end_time": "2021-05-01T08:18:28.879207Z",
     "start_time": "2021-05-01T08:18:27.705125Z"
    },
    "hidden": true
   },
   "outputs": [],
   "source": [
    "train = pd.read_csv('train_fNxu4vz.csv')\n",
    "test = pd.read_csv('test_fjtUOL8.csv')\n",
    "sample = pd.read_csv('sample_submission_HSqiq1Q.csv')"
   ]
  },
  {
   "cell_type": "markdown",
   "metadata": {
    "heading_collapsed": true
   },
   "source": [
    "### EDA"
   ]
  },
  {
   "cell_type": "code",
   "execution_count": 3,
   "metadata": {
    "ExecuteTime": {
     "end_time": "2021-05-01T08:18:29.953591Z",
     "start_time": "2021-05-01T08:18:29.936596Z"
    },
    "hidden": true
   },
   "outputs": [
    {
     "name": "stdout",
     "output_type": "stream",
     "text": [
      "(164309, 14)\n",
      "(109541, 13)\n",
      "(109541, 2)\n"
     ]
    }
   ],
   "source": [
    "print(train.shape)\n",
    "print(test.shape)\n",
    "print(sample.shape)"
   ]
  },
  {
   "cell_type": "code",
   "execution_count": 4,
   "metadata": {
    "ExecuteTime": {
     "end_time": "2021-05-01T08:18:30.379648Z",
     "start_time": "2021-05-01T08:18:30.356608Z"
    },
    "hidden": true
   },
   "outputs": [
    {
     "data": {
      "text/plain": [
       "Index(['Loan_ID', 'Loan_Amount_Requested', 'Length_Employed', 'Home_Owner',\n",
       "       'Annual_Income', 'Income_Verified', 'Purpose_Of_Loan', 'Debt_To_Income',\n",
       "       'Inquiries_Last_6Mo', 'Months_Since_Deliquency', 'Number_Open_Accounts',\n",
       "       'Total_Accounts', 'Gender', 'Interest_Rate'],\n",
       "      dtype='object')"
      ]
     },
     "execution_count": 4,
     "metadata": {},
     "output_type": "execute_result"
    }
   ],
   "source": [
    "train.columns"
   ]
  },
  {
   "cell_type": "code",
   "execution_count": 5,
   "metadata": {
    "ExecuteTime": {
     "end_time": "2021-05-01T08:18:30.809214Z",
     "start_time": "2021-05-01T08:18:30.769218Z"
    },
    "hidden": true
   },
   "outputs": [
    {
     "data": {
      "text/plain": [
       "Index(['Loan_ID', 'Loan_Amount_Requested', 'Length_Employed', 'Home_Owner',\n",
       "       'Income_Verified', 'Purpose_Of_Loan', 'Inquiries_Last_6Mo',\n",
       "       'Number_Open_Accounts', 'Total_Accounts', 'Gender', 'Interest_Rate'],\n",
       "      dtype='object')"
      ]
     },
     "execution_count": 5,
     "metadata": {},
     "output_type": "execute_result"
    }
   ],
   "source": [
    "categorical_columns = train.select_dtypes(exclude=['int', 'float']).columns\n",
    "categorical_columns"
   ]
  },
  {
   "cell_type": "code",
   "execution_count": 6,
   "metadata": {
    "ExecuteTime": {
     "end_time": "2021-05-01T08:18:31.109227Z",
     "start_time": "2021-05-01T08:18:31.083217Z"
    },
    "hidden": true
   },
   "outputs": [
    {
     "data": {
      "text/plain": [
       "Index(['Annual_Income', 'Debt_To_Income', 'Months_Since_Deliquency'], dtype='object')"
      ]
     },
     "execution_count": 6,
     "metadata": {},
     "output_type": "execute_result"
    }
   ],
   "source": [
    "numerical_columns = train.select_dtypes(include=['int', 'float']).columns\n",
    "numerical_columns"
   ]
  },
  {
   "cell_type": "code",
   "execution_count": 7,
   "metadata": {
    "ExecuteTime": {
     "end_time": "2021-05-01T08:18:31.949216Z",
     "start_time": "2021-05-01T08:18:31.386223Z"
    },
    "hidden": true
   },
   "outputs": [
    {
     "name": "stdout",
     "output_type": "stream",
     "text": [
      "1    33806\n",
      "2    70580\n",
      "3    59923\n",
      "Name: Interest_Rate, dtype: int64\n"
     ]
    },
    {
     "data": {
      "text/plain": [
       "<AxesSubplot:xlabel='Interest_Rate', ylabel='count'>"
      ]
     },
     "execution_count": 7,
     "metadata": {},
     "output_type": "execute_result"
    },
    {
     "data": {
      "image/png": "[encoded data removed]",
      "text/plain": [
       "<Figure size 432x288 with 1 Axes>"
      ]
     },
     "metadata": {
      "needs_background": "dark"
     },
     "output_type": "display_data"
    }
   ],
   "source": [
    "### Target Variable Distribution\n",
    "\n",
    "print(train['Interest_Rate'].value_counts().sort_index())\n",
    "sns.countplot(train['Interest_Rate'])"
   ]
  },
  {
   "cell_type": "markdown",
   "metadata": {
    "hidden": true
   },
   "source": [
    "#### Missing Value Treatment , Preprocessing and Visualization"
   ]
  },
  {
   "cell_type": "code",
   "execution_count": 8,
   "metadata": {
    "ExecuteTime": {
     "end_time": "2021-05-01T08:18:32.280215Z",
     "start_time": "2021-05-01T08:18:32.177216Z"
    },
    "hidden": true
   },
   "outputs": [
    {
     "data": {
      "text/plain": [
       "Loan_ID                        0\n",
       "Loan_Amount_Requested          0\n",
       "Length_Employed             7371\n",
       "Home_Owner                 25349\n",
       "Annual_Income              25102\n",
       "Income_Verified                0\n",
       "Purpose_Of_Loan                0\n",
       "Debt_To_Income                 0\n",
       "Inquiries_Last_6Mo             0\n",
       "Months_Since_Deliquency    88379\n",
       "Number_Open_Accounts           0\n",
       "Total_Accounts                 0\n",
       "Gender                         0\n",
       "Interest_Rate                  0\n",
       "dtype: int64"
      ]
     },
     "execution_count": 8,
     "metadata": {},
     "output_type": "execute_result"
    }
   ],
   "source": [
    "train.isna().sum()"
   ]
  },
  {
   "cell_type": "code",
   "execution_count": 9,
   "metadata": {
    "ExecuteTime": {
     "end_time": "2021-05-01T08:18:32.675238Z",
     "start_time": "2021-05-01T08:18:32.571218Z"
    },
    "hidden": true
   },
   "outputs": [
    {
     "data": {
      "text/plain": [
       "Loan_ID                        0\n",
       "Loan_Amount_Requested          0\n",
       "Length_Employed             4936\n",
       "Home_Owner                 16711\n",
       "Annual_Income              16898\n",
       "Income_Verified                0\n",
       "Purpose_Of_Loan                0\n",
       "Debt_To_Income                 0\n",
       "Inquiries_Last_6Mo             0\n",
       "Months_Since_Deliquency    58859\n",
       "Number_Open_Accounts           0\n",
       "Total_Accounts                 0\n",
       "Gender                         0\n",
       "dtype: int64"
      ]
     },
     "execution_count": 9,
     "metadata": {},
     "output_type": "execute_result"
    }
   ],
   "source": [
    "test.isna().sum()"
   ]
  },
  {
   "cell_type": "code",
   "execution_count": 10,
   "metadata": {
    "ExecuteTime": {
     "end_time": "2021-05-01T08:18:32.995216Z",
     "start_time": "2021-05-01T08:18:32.871219Z"
    },
    "hidden": true
   },
   "outputs": [
    {
     "data": {
      "text/plain": [
       "(273850, 14)"
      ]
     },
     "execution_count": 10,
     "metadata": {},
     "output_type": "execute_result"
    }
   ],
   "source": [
    "df = train.append(test)\n",
    "df.shape"
   ]
  },
  {
   "cell_type": "markdown",
   "metadata": {
    "hidden": true
   },
   "source": [
    "##### Loan Amount Requested"
   ]
  },
  {
   "cell_type": "code",
   "execution_count": 11,
   "metadata": {
    "ExecuteTime": {
     "end_time": "2021-05-01T08:18:33.373222Z",
     "start_time": "2021-05-01T08:18:33.328216Z"
    },
    "hidden": true
   },
   "outputs": [
    {
     "data": {
      "text/plain": [
       "0"
      ]
     },
     "execution_count": 11,
     "metadata": {},
     "output_type": "execute_result"
    }
   ],
   "source": [
    "df['Loan_Amount_Requested'].isna().sum()"
   ]
  },
  {
   "cell_type": "code",
   "execution_count": 12,
   "metadata": {
    "ExecuteTime": {
     "end_time": "2021-05-01T08:18:34.369217Z",
     "start_time": "2021-05-01T08:18:33.741218Z"
    },
    "hidden": true
   },
   "outputs": [
    {
     "data": {
      "text/plain": [
       "count    273850.000000\n",
       "mean      14352.992240\n",
       "std        8289.036702\n",
       "min         500.000000\n",
       "25%        8000.000000\n",
       "50%       12000.000000\n",
       "75%       20000.000000\n",
       "max       35000.000000\n",
       "Name: Loan_Amount_Requested, dtype: float64"
      ]
     },
     "execution_count": 12,
     "metadata": {},
     "output_type": "execute_result"
    }
   ],
   "source": [
    "df['Loan_Amount_Requested'] = df['Loan_Amount_Requested'].str.replace(',', '').astype(int)\n",
    "df['Loan_Amount_Requested'].describe()"
   ]
  },
  {
   "cell_type": "code",
   "execution_count": 13,
   "metadata": {
    "ExecuteTime": {
     "end_time": "2021-05-01T08:18:35.857216Z",
     "start_time": "2021-05-01T08:18:34.740220Z"
    },
    "hidden": true
   },
   "outputs": [
    {
     "data": {
      "text/plain": [
       "<AxesSubplot:title={'center':'Loan_Amount_Requested'}, xlabel='Interest_Rate'>"
      ]
     },
     "execution_count": 13,
     "metadata": {},
     "output_type": "execute_result"
    },
    {
     "data": {
      "image/png": "[encoded data removed]",
      "text/plain": [
       "<Figure size 360x360 with 1 Axes>"
      ]
     },
     "metadata": {
      "needs_background": "dark"
     },
     "output_type": "display_data"
    }
   ],
   "source": [
    "fig, ax = plt.subplots(figsize=(5,5))\n",
    "plt.suptitle('')\n",
    "df.boxplot(column=['Loan_Amount_Requested'], by='Interest_Rate', ax=ax)"
   ]
  },
  {
   "cell_type": "markdown",
   "metadata": {
    "hidden": true
   },
   "source": [
    "##### Length Employed"
   ]
  },
  {
   "cell_type": "code",
   "execution_count": 14,
   "metadata": {
    "ExecuteTime": {
     "end_time": "2021-05-01T08:18:36.193218Z",
     "start_time": "2021-05-01T08:18:36.150223Z"
    },
    "hidden": true
   },
   "outputs": [
    {
     "data": {
      "text/plain": [
       "12307"
      ]
     },
     "execution_count": 14,
     "metadata": {},
     "output_type": "execute_result"
    }
   ],
   "source": [
    "df['Length_Employed'].isna().sum()"
   ]
  },
  {
   "cell_type": "code",
   "execution_count": 15,
   "metadata": {
    "ExecuteTime": {
     "end_time": "2021-05-01T08:18:36.367220Z",
     "start_time": "2021-05-01T08:18:36.197218Z"
    },
    "hidden": true
   },
   "outputs": [
    {
     "data": {
      "text/plain": [
       "10+ years    88328\n",
       "2 years      24420\n",
       "3 years      21478\n",
       "< 1 year     21133\n",
       "5 years      18042\n",
       "1 year       17336\n",
       "4 years      16393\n",
       "7 years      15444\n",
       "6 years      15351\n",
       "8 years      13115\n",
       "9 years      10503\n",
       "Name: Length_Employed, dtype: int64"
      ]
     },
     "execution_count": 15,
     "metadata": {},
     "output_type": "execute_result"
    }
   ],
   "source": [
    "df['Length_Employed'].value_counts()"
   ]
  },
  {
   "cell_type": "code",
   "execution_count": 16,
   "metadata": {
    "ExecuteTime": {
     "end_time": "2021-05-01T08:18:37.175218Z",
     "start_time": "2021-05-01T08:18:37.088225Z"
    },
    "hidden": true
   },
   "outputs": [],
   "source": [
    "df['Length_Employed'] = df['Length_Employed'].replace('10+ years','10 years')\n",
    "df['Length_Employed'] = df['Length_Employed'].replace('< 1 year','0 years')"
   ]
  },
  {
   "cell_type": "code",
   "execution_count": 17,
   "metadata": {
    "ExecuteTime": {
     "end_time": "2021-05-01T08:18:38.729237Z",
     "start_time": "2021-05-01T08:18:37.529219Z"
    },
    "hidden": true
   },
   "outputs": [
    {
     "data": {
      "text/plain": [
       "<AxesSubplot:xlabel='Length_Employed', ylabel='count'>"
      ]
     },
     "execution_count": 17,
     "metadata": {},
     "output_type": "execute_result"
    },
    {
     "data": {
      "image/png": "[encoded data removed]",
      "text/plain": [
       "<Figure size 720x360 with 1 Axes>"
      ]
     },
     "metadata": {
      "needs_background": "dark"
     },
     "output_type": "display_data"
    }
   ],
   "source": [
    "df['Length_Employed'].fillna(df['Length_Employed'].mode()[0],inplace = True)\n",
    "plt.figure(figsize=(10,5))\n",
    "sns.countplot(df['Length_Employed'],order= df['Length_Employed'].value_counts().index)"
   ]
  },
  {
   "cell_type": "code",
   "execution_count": 18,
   "metadata": {
    "ExecuteTime": {
     "end_time": "2021-05-01T08:18:40.820217Z",
     "start_time": "2021-05-01T08:18:38.971216Z"
    },
    "hidden": true
   },
   "outputs": [],
   "source": [
    "df[['A','B']] = df['Length_Employed'].str.split(\" \",expand = True)\n",
    "df['Length_Employed'] = df['A']\n",
    "del df['A']\n",
    "del df['B']\n",
    "df['Length_Employed'] = df['Length_Employed'].astype(int)"
   ]
  },
  {
   "cell_type": "markdown",
   "metadata": {
    "hidden": true
   },
   "source": [
    "##### Home Owner"
   ]
  },
  {
   "cell_type": "code",
   "execution_count": 19,
   "metadata": {
    "ExecuteTime": {
     "end_time": "2021-05-01T08:18:42.053216Z",
     "start_time": "2021-05-01T08:18:41.141218Z"
    },
    "hidden": true
   },
   "outputs": [
    {
     "data": {
      "text/plain": [
       "<AxesSubplot:xlabel='Home_Owner', ylabel='count'>"
      ]
     },
     "execution_count": 19,
     "metadata": {},
     "output_type": "execute_result"
    },
    {
     "data": {
      "image/png": "[encoded data removed]",
      "text/plain": [
       "<Figure size 432x288 with 1 Axes>"
      ]
     },
     "metadata": {
      "needs_background": "dark"
     },
     "output_type": "display_data"
    }
   ],
   "source": [
    "sns.countplot(df['Home_Owner'])"
   ]
  },
  {
   "cell_type": "code",
   "execution_count": 20,
   "metadata": {
    "ExecuteTime": {
     "end_time": "2021-05-01T08:18:42.430212Z",
     "start_time": "2021-05-01T08:18:42.390216Z"
    },
    "hidden": true
   },
   "outputs": [
    {
     "data": {
      "text/plain": [
       "42060"
      ]
     },
     "execution_count": 20,
     "metadata": {},
     "output_type": "execute_result"
    }
   ],
   "source": [
    "df['Home_Owner'].isna().sum()"
   ]
  },
  {
   "cell_type": "code",
   "execution_count": 21,
   "metadata": {
    "ExecuteTime": {
     "end_time": "2021-05-01T08:18:42.762217Z",
     "start_time": "2021-05-01T08:18:42.625222Z"
    },
    "hidden": true
   },
   "outputs": [],
   "source": [
    "df['Home_Owner'].fillna(df['Home_Owner'].fillna(df['Home_Owner'].mode()[0]),inplace = True)"
   ]
  },
  {
   "cell_type": "code",
   "execution_count": 22,
   "metadata": {
    "ExecuteTime": {
     "end_time": "2021-05-01T08:18:43.078212Z",
     "start_time": "2021-05-01T08:18:43.005218Z"
    },
    "hidden": true
   },
   "outputs": [
    {
     "data": {
      "text/plain": [
       "Mortgage    159330\n",
       "Rent         93542\n",
       "Own          20879\n",
       "Other           79\n",
       "None            20\n",
       "Name: Home_Owner, dtype: int64"
      ]
     },
     "execution_count": 22,
     "metadata": {},
     "output_type": "execute_result"
    }
   ],
   "source": [
    "df['Home_Owner'].value_counts()"
   ]
  },
  {
   "cell_type": "code",
   "execution_count": 23,
   "metadata": {
    "ExecuteTime": {
     "end_time": "2021-05-01T08:18:43.756239Z",
     "start_time": "2021-05-01T08:18:43.301219Z"
    },
    "hidden": true
   },
   "outputs": [
    {
     "data": {
      "text/html": [
       "<div>\n",
       "<style scoped>\n",
       "    .dataframe tbody tr th:only-of-type {\n",
       "        vertical-align: middle;\n",
       "    }\n",
       "\n",
       "    .dataframe tbody tr th {\n",
       "        vertical-align: top;\n",
       "    }\n",
       "\n",
       "    .dataframe thead th {\n",
       "        text-align: right;\n",
       "    }\n",
       "</style>\n",
       "<table border=\"1\" class=\"dataframe\">\n",
       "  <thead>\n",
       "    <tr style=\"text-align: right;\">\n",
       "      <th>Interest_Rate</th>\n",
       "      <th>1.0</th>\n",
       "      <th>2.0</th>\n",
       "      <th>3.0</th>\n",
       "    </tr>\n",
       "    <tr>\n",
       "      <th>Home_Owner</th>\n",
       "      <th></th>\n",
       "      <th></th>\n",
       "      <th></th>\n",
       "    </tr>\n",
       "  </thead>\n",
       "  <tbody>\n",
       "    <tr>\n",
       "      <th>Mortgage</th>\n",
       "      <td>21584</td>\n",
       "      <td>40501</td>\n",
       "      <td>33609</td>\n",
       "    </tr>\n",
       "    <tr>\n",
       "      <th>None</th>\n",
       "      <td>5</td>\n",
       "      <td>1</td>\n",
       "      <td>4</td>\n",
       "    </tr>\n",
       "    <tr>\n",
       "      <th>Other</th>\n",
       "      <td>10</td>\n",
       "      <td>25</td>\n",
       "      <td>14</td>\n",
       "    </tr>\n",
       "    <tr>\n",
       "      <th>Own</th>\n",
       "      <td>2488</td>\n",
       "      <td>5416</td>\n",
       "      <td>4621</td>\n",
       "    </tr>\n",
       "    <tr>\n",
       "      <th>Rent</th>\n",
       "      <td>9719</td>\n",
       "      <td>24637</td>\n",
       "      <td>21675</td>\n",
       "    </tr>\n",
       "  </tbody>\n",
       "</table>\n",
       "</div>"
      ],
      "text/plain": [
       "Interest_Rate    1.0    2.0    3.0\n",
       "Home_Owner                        \n",
       "Mortgage       21584  40501  33609\n",
       "None               5      1      4\n",
       "Other             10     25     14\n",
       "Own             2488   5416   4621\n",
       "Rent            9719  24637  21675"
      ]
     },
     "execution_count": 23,
     "metadata": {},
     "output_type": "execute_result"
    }
   ],
   "source": [
    "pd.crosstab(df['Home_Owner'],df['Interest_Rate'])"
   ]
  },
  {
   "cell_type": "markdown",
   "metadata": {
    "hidden": true
   },
   "source": [
    "##### Annual Income"
   ]
  },
  {
   "cell_type": "code",
   "execution_count": 24,
   "metadata": {
    "ExecuteTime": {
     "end_time": "2021-05-01T08:18:44.152214Z",
     "start_time": "2021-05-01T08:18:44.128219Z"
    },
    "hidden": true
   },
   "outputs": [
    {
     "data": {
      "text/plain": [
       "42000"
      ]
     },
     "execution_count": 24,
     "metadata": {},
     "output_type": "execute_result"
    }
   ],
   "source": [
    "df['Annual_Income'].isna().sum()"
   ]
  },
  {
   "cell_type": "code",
   "execution_count": 25,
   "metadata": {
    "ExecuteTime": {
     "end_time": "2021-05-01T08:18:51.012218Z",
     "start_time": "2021-05-01T08:18:44.379217Z"
    },
    "hidden": true
   },
   "outputs": [
    {
     "name": "stdout",
     "output_type": "stream",
     "text": [
      "36.867966687285296\n",
      "3822.0975910640777\n"
     ]
    },
    {
     "data": {
      "text/plain": [
       "<AxesSubplot:xlabel='Annual_Income', ylabel='Density'>"
      ]
     },
     "execution_count": 25,
     "metadata": {},
     "output_type": "execute_result"
    },
    {
     "data": {
      "image/png": "[encoded data removed]",
      "text/plain": [
       "<Figure size 432x288 with 1 Axes>"
      ]
     },
     "metadata": {
      "needs_background": "dark"
     },
     "output_type": "display_data"
    }
   ],
   "source": [
    "print(df['Annual_Income'].skew())\n",
    "print(df['Annual_Income'].kurtosis())\n",
    "sns.distplot(df['Annual_Income'])"
   ]
  },
  {
   "cell_type": "code",
   "execution_count": 26,
   "metadata": {
    "ExecuteTime": {
     "end_time": "2021-05-01T08:18:51.424218Z",
     "start_time": "2021-05-01T08:18:51.384218Z"
    },
    "hidden": true
   },
   "outputs": [],
   "source": [
    "df['Annual_Income'].fillna(df['Annual_Income'].median(),inplace = True)"
   ]
  },
  {
   "cell_type": "markdown",
   "metadata": {
    "hidden": true
   },
   "source": [
    "##### Income Verified"
   ]
  },
  {
   "cell_type": "code",
   "execution_count": 27,
   "metadata": {
    "ExecuteTime": {
     "end_time": "2021-05-01T08:18:51.898219Z",
     "start_time": "2021-05-01T08:18:51.794220Z"
    },
    "hidden": true
   },
   "outputs": [
    {
     "data": {
      "text/plain": [
       "VERIFIED - income           99076\n",
       "VERIFIED - income source    88253\n",
       "not verified                86521\n",
       "Name: Income_Verified, dtype: int64"
      ]
     },
     "execution_count": 27,
     "metadata": {},
     "output_type": "execute_result"
    }
   ],
   "source": [
    "df['Income_Verified'].value_counts()"
   ]
  },
  {
   "cell_type": "code",
   "execution_count": 28,
   "metadata": {
    "ExecuteTime": {
     "end_time": "2021-05-01T08:18:53.247217Z",
     "start_time": "2021-05-01T08:18:52.254219Z"
    },
    "hidden": true
   },
   "outputs": [
    {
     "data": {
      "text/plain": [
       "<AxesSubplot:xlabel='Income_Verified', ylabel='count'>"
      ]
     },
     "execution_count": 28,
     "metadata": {},
     "output_type": "execute_result"
    },
    {
     "data": {
      "image/png": "[encoded data removed]",
      "text/plain": [
       "<Figure size 432x288 with 1 Axes>"
      ]
     },
     "metadata": {
      "needs_background": "dark"
     },
     "output_type": "display_data"
    }
   ],
   "source": [
    "sns.countplot(df['Income_Verified'])"
   ]
  },
  {
   "cell_type": "markdown",
   "metadata": {
    "hidden": true
   },
   "source": [
    "##### Purpose of Loan"
   ]
  },
  {
   "cell_type": "code",
   "execution_count": 29,
   "metadata": {
    "ExecuteTime": {
     "end_time": "2021-05-01T08:18:54.289215Z",
     "start_time": "2021-05-01T08:18:53.597220Z"
    },
    "hidden": true
   },
   "outputs": [
    {
     "data": {
      "text/plain": [
       "<AxesSubplot:xlabel='Purpose_Of_Loan', ylabel='count'>"
      ]
     },
     "execution_count": 29,
     "metadata": {},
     "output_type": "execute_result"
    },
    {
     "data": {
      "image/png": "[encoded data removed]",
      "text/plain": [
       "<Figure size 1800x576 with 1 Axes>"
      ]
     },
     "metadata": {
      "needs_background": "dark"
     },
     "output_type": "display_data"
    }
   ],
   "source": [
    "plt.figure(figsize=(25,8))\n",
    "sns.countplot(df['Purpose_Of_Loan'],order= df['Purpose_Of_Loan'].value_counts().index)"
   ]
  },
  {
   "cell_type": "markdown",
   "metadata": {
    "hidden": true
   },
   "source": [
    "##### Debt To Income "
   ]
  },
  {
   "cell_type": "code",
   "execution_count": 30,
   "metadata": {
    "ExecuteTime": {
     "end_time": "2021-05-01T08:18:57.091393Z",
     "start_time": "2021-05-01T08:18:54.469222Z"
    },
    "hidden": true
   },
   "outputs": [
    {
     "name": "stdout",
     "output_type": "stream",
     "text": [
      "0.19213205369155806\n",
      "-0.5382642536274256\n"
     ]
    },
    {
     "data": {
      "text/plain": [
       "<AxesSubplot:xlabel='Debt_To_Income', ylabel='Density'>"
      ]
     },
     "execution_count": 30,
     "metadata": {},
     "output_type": "execute_result"
    },
    {
     "data": {
      "image/png": "[encoded data removed]",
      "text/plain": [
       "<Figure size 432x288 with 1 Axes>"
      ]
     },
     "metadata": {
      "needs_background": "dark"
     },
     "output_type": "display_data"
    }
   ],
   "source": [
    "print(df['Debt_To_Income'].skew())\n",
    "print(df['Debt_To_Income'].kurtosis())\n",
    "sns.distplot(df.Debt_To_Income)"
   ]
  },
  {
   "cell_type": "markdown",
   "metadata": {
    "hidden": true
   },
   "source": [
    "##### Inquiries SInce Last 6 months"
   ]
  },
  {
   "cell_type": "code",
   "execution_count": 31,
   "metadata": {
    "ExecuteTime": {
     "end_time": "2021-05-01T08:18:57.630315Z",
     "start_time": "2021-05-01T08:18:57.220216Z"
    },
    "hidden": true
   },
   "outputs": [
    {
     "data": {
      "text/plain": [
       "<AxesSubplot:xlabel='Inquiries_Last_6Mo', ylabel='count'>"
      ]
     },
     "execution_count": 31,
     "metadata": {},
     "output_type": "execute_result"
    },
    {
     "data": {
      "image/png": "[encoded data removed]",
      "text/plain": [
       "<Figure size 432x288 with 1 Axes>"
      ]
     },
     "metadata": {
      "needs_background": "dark"
     },
     "output_type": "display_data"
    }
   ],
   "source": [
    "sns.countplot(df['Inquiries_Last_6Mo'])"
   ]
  },
  {
   "cell_type": "markdown",
   "metadata": {
    "hidden": true
   },
   "source": [
    "##### Months Since Deliquency"
   ]
  },
  {
   "cell_type": "code",
   "execution_count": 32,
   "metadata": {
    "ExecuteTime": {
     "end_time": "2021-05-01T08:18:57.869232Z",
     "start_time": "2021-05-01T08:18:57.841222Z"
    },
    "hidden": true
   },
   "outputs": [
    {
     "data": {
      "text/plain": [
       "53.765930253788575"
      ]
     },
     "execution_count": 32,
     "metadata": {},
     "output_type": "execute_result"
    }
   ],
   "source": [
    "df['Months_Since_Deliquency'].isna().sum()/len(df)*100"
   ]
  },
  {
   "cell_type": "code",
   "execution_count": 33,
   "metadata": {
    "ExecuteTime": {
     "end_time": "2021-05-01T08:19:00.599216Z",
     "start_time": "2021-05-01T08:18:57.877217Z"
    },
    "hidden": true
   },
   "outputs": [
    {
     "name": "stdout",
     "output_type": "stream",
     "text": [
      "0.46089962944440055\n",
      "-0.7363474524876565\n"
     ]
    },
    {
     "data": {
      "text/plain": [
       "' A negative kurtosis means that your distribution is flatter and has a lighter tail than a normal curve with the same mean and standard deviation. If the skewness is between -0.5 and 0.5, the data are fairly symmetrical.\\n'"
      ]
     },
     "execution_count": 33,
     "metadata": {},
     "output_type": "execute_result"
    },
    {
     "data": {
      "image/png": "[encoded data removed]",
      "text/plain": [
       "<Figure size 432x288 with 1 Axes>"
      ]
     },
     "metadata": {
      "needs_background": "dark"
     },
     "output_type": "display_data"
    }
   ],
   "source": [
    "print(train['Months_Since_Deliquency'].skew())\n",
    "print(train['Months_Since_Deliquency'].kurtosis())\n",
    "sns.distplot(train['Months_Since_Deliquency'])\n",
    "\n",
    "''' A negative kurtosis means that your distribution is flatter and has a lighter tail than a normal curve with the same mean and standard deviation. If the skewness is between -0.5 and 0.5, the data are fairly symmetrical.\n",
    "'''"
   ]
  },
  {
   "cell_type": "markdown",
   "metadata": {
    "hidden": true
   },
   "source": [
    "##### Number of Open Accounts"
   ]
  },
  {
   "cell_type": "code",
   "execution_count": 34,
   "metadata": {
    "ExecuteTime": {
     "end_time": "2021-05-01T08:19:01.435228Z",
     "start_time": "2021-05-01T08:19:01.392219Z"
    },
    "hidden": true
   },
   "outputs": [
    {
     "data": {
      "text/plain": [
       "count    273850.000000\n",
       "mean         11.186025\n",
       "std           4.973663\n",
       "min           0.000000\n",
       "25%           8.000000\n",
       "50%          10.000000\n",
       "75%          14.000000\n",
       "max          84.000000\n",
       "Name: Number_Open_Accounts, dtype: float64"
      ]
     },
     "execution_count": 34,
     "metadata": {},
     "output_type": "execute_result"
    }
   ],
   "source": [
    "df['Number_Open_Accounts'].describe()"
   ]
  },
  {
   "cell_type": "code",
   "execution_count": 35,
   "metadata": {
    "ExecuteTime": {
     "end_time": "2021-05-01T08:19:04.606215Z",
     "start_time": "2021-05-01T08:19:01.791218Z"
    },
    "hidden": true
   },
   "outputs": [
    {
     "data": {
      "text/plain": [
       "<AxesSubplot:xlabel='Number_Open_Accounts', ylabel='count'>"
      ]
     },
     "execution_count": 35,
     "metadata": {},
     "output_type": "execute_result"
    },
    {
     "data": {
      "image/png": "[encoded data removed]",
      "text/plain": [
       "<Figure size 1440x360 with 1 Axes>"
      ]
     },
     "metadata": {
      "needs_background": "dark"
     },
     "output_type": "display_data"
    }
   ],
   "source": [
    "plt.figure(figsize = (20,5))\n",
    "sns.countplot(df['Number_Open_Accounts'])"
   ]
  },
  {
   "cell_type": "markdown",
   "metadata": {
    "hidden": true
   },
   "source": [
    "##### Total Accounts"
   ]
  },
  {
   "cell_type": "code",
   "execution_count": 36,
   "metadata": {
    "ExecuteTime": {
     "end_time": "2021-05-01T08:19:04.843217Z",
     "start_time": "2021-05-01T08:19:04.818219Z"
    },
    "hidden": true
   },
   "outputs": [
    {
     "data": {
      "text/plain": [
       "<Figure size 1440x360 with 0 Axes>"
      ]
     },
     "execution_count": 36,
     "metadata": {},
     "output_type": "execute_result"
    },
    {
     "data": {
      "text/plain": [
       "<Figure size 1440x360 with 0 Axes>"
      ]
     },
     "metadata": {},
     "output_type": "display_data"
    }
   ],
   "source": [
    "plt.figure(figsize = (20,5))\n",
    "##sns.countplot(df['Total_Accounts'])"
   ]
  },
  {
   "cell_type": "markdown",
   "metadata": {
    "hidden": true
   },
   "source": [
    "##### Gender"
   ]
  },
  {
   "cell_type": "code",
   "execution_count": 37,
   "metadata": {
    "ExecuteTime": {
     "end_time": "2021-05-01T08:19:05.176214Z",
     "start_time": "2021-05-01T08:19:05.106220Z"
    },
    "hidden": true
   },
   "outputs": [
    {
     "data": {
      "text/plain": [
       "Male      194993\n",
       "Female     78857\n",
       "Name: Gender, dtype: int64"
      ]
     },
     "execution_count": 37,
     "metadata": {},
     "output_type": "execute_result"
    }
   ],
   "source": [
    "df['Gender'].value_counts()"
   ]
  },
  {
   "cell_type": "code",
   "execution_count": 38,
   "metadata": {
    "ExecuteTime": {
     "end_time": "2021-05-01T08:19:05.868226Z",
     "start_time": "2021-05-01T08:19:05.384247Z"
    },
    "hidden": true
   },
   "outputs": [
    {
     "data": {
      "text/plain": [
       "<AxesSubplot:xlabel='Gender', ylabel='count'>"
      ]
     },
     "execution_count": 38,
     "metadata": {},
     "output_type": "execute_result"
    },
    {
     "data": {
      "image/png": "[encoded data removed]",
      "text/plain": [
       "<Figure size 432x288 with 1 Axes>"
      ]
     },
     "metadata": {
      "needs_background": "dark"
     },
     "output_type": "display_data"
    }
   ],
   "source": [
    "sns.countplot(df['Gender'])"
   ]
  },
  {
   "cell_type": "markdown",
   "metadata": {
    "hidden": true
   },
   "source": [
    "#### New Features"
   ]
  },
  {
   "cell_type": "code",
   "execution_count": 39,
   "metadata": {
    "ExecuteTime": {
     "end_time": "2021-05-01T08:19:06.362233Z",
     "start_time": "2021-05-01T08:19:06.063224Z"
    },
    "hidden": true
   },
   "outputs": [],
   "source": [
    "df[\"Number_Invalid_Acc\"] = df[\"Total_Accounts\"] - df[\"Number_Open_Accounts\"]\n",
    "df[\"Number_Years_To_Repay_Debt\"] = df[\"Loan_Amount_Requested\"]/df[\"Annual_Income\"]"
   ]
  },
  {
   "cell_type": "code",
   "execution_count": 40,
   "metadata": {
    "ExecuteTime": {
     "end_time": "2021-05-01T08:19:06.584233Z",
     "start_time": "2021-05-01T08:19:06.543242Z"
    },
    "hidden": true
   },
   "outputs": [],
   "source": [
    "df['Loan_label'] = pd.cut(x=df['Loan_Amount_Requested'], bins= 3, labels=['Low','Medium','High'], right=True)\n",
    "dic = {'Low':1,'Medium':2,'High':3}\n",
    "df['Loan_label'] = df['Loan_label'].map(dic)"
   ]
  },
  {
   "cell_type": "code",
   "execution_count": 41,
   "metadata": {
    "ExecuteTime": {
     "end_time": "2021-05-01T08:19:06.838336Z",
     "start_time": "2021-05-01T08:19:06.795236Z"
    },
    "hidden": true
   },
   "outputs": [],
   "source": [
    "df['Income_label'] = pd.cut(x=df['Annual_Income'], bins= 3, labels=['Low','Medium','High'], right=True)\n",
    "dic = {'Low':1,'Medium':2,'High':3}\n",
    "df['Income_label'] = df['Income_label'].map(dic)"
   ]
  },
  {
   "cell_type": "code",
   "execution_count": 42,
   "metadata": {
    "ExecuteTime": {
     "end_time": "2021-05-01T08:19:07.585249Z",
     "start_time": "2021-05-01T08:19:07.129238Z"
    },
    "hidden": true
   },
   "outputs": [],
   "source": [
    "deli = []\n",
    "for i in df['Months_Since_Deliquency']:\n",
    "    if pd.isnull(i) == True:\n",
    "        deli.append(0)\n",
    "    else:\n",
    "        deli.append(1)\n",
    "df['Deliquency'] = deli\n",
    "df.drop('Months_Since_Deliquency',axis = 1,inplace = True)"
   ]
  },
  {
   "cell_type": "markdown",
   "metadata": {
    "hidden": true
   },
   "source": [
    "#### Complete EDA"
   ]
  },
  {
   "cell_type": "code",
   "execution_count": 43,
   "metadata": {
    "ExecuteTime": {
     "end_time": "2021-05-01T08:19:07.901243Z",
     "start_time": "2021-05-01T08:19:07.843239Z"
    },
    "hidden": true
   },
   "outputs": [],
   "source": [
    "df = df[['Loan_ID','Loan_Amount_Requested','Length_Employed','Home_Owner',\n",
    "         'Annual_Income','Income_Verified','Purpose_Of_Loan','Debt_To_Income',\n",
    "         'Inquiries_Last_6Mo','Number_Open_Accounts','Total_Accounts','Gender',\n",
    "         'Number_Invalid_Acc','Number_Years_To_Repay_Debt','Interest_Rate','Income_label','Loan_label','Deliquency']]"
   ]
  },
  {
   "cell_type": "code",
   "execution_count": 44,
   "metadata": {
    "ExecuteTime": {
     "end_time": "2021-05-01T08:19:08.262236Z",
     "start_time": "2021-05-01T08:19:08.187240Z"
    },
    "hidden": true
   },
   "outputs": [],
   "source": [
    "trains = df[df['Interest_Rate'].isna() == False] \n",
    "tests = df[df['Interest_Rate'].isna() == True]"
   ]
  },
  {
   "cell_type": "code",
   "execution_count": 45,
   "metadata": {
    "ExecuteTime": {
     "end_time": "2021-05-01T08:19:08.643244Z",
     "start_time": "2021-05-01T08:19:08.632253Z"
    },
    "hidden": true
   },
   "outputs": [],
   "source": [
    "trains['Interest_Rate'] = trains['Interest_Rate'].astype(int)"
   ]
  },
  {
   "cell_type": "code",
   "execution_count": 46,
   "metadata": {
    "ExecuteTime": {
     "end_time": "2021-05-01T08:19:09.099239Z",
     "start_time": "2021-05-01T08:19:09.040238Z"
    },
    "hidden": true
   },
   "outputs": [
    {
     "data": {
      "text/html": [
       "<div>\n",
       "<style scoped>\n",
       "    .dataframe tbody tr th:only-of-type {\n",
       "        vertical-align: middle;\n",
       "    }\n",
       "\n",
       "    .dataframe tbody tr th {\n",
       "        vertical-align: top;\n",
       "    }\n",
       "\n",
       "    .dataframe thead th {\n",
       "        text-align: right;\n",
       "    }\n",
       "</style>\n",
       "<table border=\"1\" class=\"dataframe\">\n",
       "  <thead>\n",
       "    <tr style=\"text-align: right;\">\n",
       "      <th></th>\n",
       "      <th>Loan_ID</th>\n",
       "      <th>Loan_Amount_Requested</th>\n",
       "      <th>Length_Employed</th>\n",
       "      <th>Home_Owner</th>\n",
       "      <th>Annual_Income</th>\n",
       "      <th>Income_Verified</th>\n",
       "      <th>Purpose_Of_Loan</th>\n",
       "      <th>Debt_To_Income</th>\n",
       "      <th>Inquiries_Last_6Mo</th>\n",
       "      <th>Number_Open_Accounts</th>\n",
       "      <th>Total_Accounts</th>\n",
       "      <th>Gender</th>\n",
       "      <th>Number_Invalid_Acc</th>\n",
       "      <th>Number_Years_To_Repay_Debt</th>\n",
       "      <th>Interest_Rate</th>\n",
       "      <th>Income_label</th>\n",
       "      <th>Loan_label</th>\n",
       "      <th>Deliquency</th>\n",
       "    </tr>\n",
       "  </thead>\n",
       "  <tbody>\n",
       "    <tr>\n",
       "      <th>0</th>\n",
       "      <td>10000001</td>\n",
       "      <td>7000</td>\n",
       "      <td>0</td>\n",
       "      <td>Rent</td>\n",
       "      <td>68000.0</td>\n",
       "      <td>not verified</td>\n",
       "      <td>car</td>\n",
       "      <td>18.37</td>\n",
       "      <td>0</td>\n",
       "      <td>9</td>\n",
       "      <td>14</td>\n",
       "      <td>Female</td>\n",
       "      <td>5</td>\n",
       "      <td>0.102941</td>\n",
       "      <td>1</td>\n",
       "      <td>1</td>\n",
       "      <td>1</td>\n",
       "      <td>0</td>\n",
       "    </tr>\n",
       "    <tr>\n",
       "      <th>1</th>\n",
       "      <td>10000002</td>\n",
       "      <td>30000</td>\n",
       "      <td>4</td>\n",
       "      <td>Mortgage</td>\n",
       "      <td>63000.0</td>\n",
       "      <td>VERIFIED - income</td>\n",
       "      <td>debt_consolidation</td>\n",
       "      <td>14.93</td>\n",
       "      <td>0</td>\n",
       "      <td>12</td>\n",
       "      <td>24</td>\n",
       "      <td>Female</td>\n",
       "      <td>12</td>\n",
       "      <td>0.476190</td>\n",
       "      <td>3</td>\n",
       "      <td>1</td>\n",
       "      <td>3</td>\n",
       "      <td>1</td>\n",
       "    </tr>\n",
       "    <tr>\n",
       "      <th>2</th>\n",
       "      <td>10000003</td>\n",
       "      <td>24725</td>\n",
       "      <td>7</td>\n",
       "      <td>Mortgage</td>\n",
       "      <td>75566.4</td>\n",
       "      <td>VERIFIED - income source</td>\n",
       "      <td>debt_consolidation</td>\n",
       "      <td>15.88</td>\n",
       "      <td>0</td>\n",
       "      <td>12</td>\n",
       "      <td>16</td>\n",
       "      <td>Male</td>\n",
       "      <td>4</td>\n",
       "      <td>0.327196</td>\n",
       "      <td>3</td>\n",
       "      <td>1</td>\n",
       "      <td>3</td>\n",
       "      <td>0</td>\n",
       "    </tr>\n",
       "    <tr>\n",
       "      <th>3</th>\n",
       "      <td>10000004</td>\n",
       "      <td>16000</td>\n",
       "      <td>0</td>\n",
       "      <td>Mortgage</td>\n",
       "      <td>56160.0</td>\n",
       "      <td>VERIFIED - income source</td>\n",
       "      <td>debt_consolidation</td>\n",
       "      <td>14.34</td>\n",
       "      <td>3</td>\n",
       "      <td>16</td>\n",
       "      <td>22</td>\n",
       "      <td>Male</td>\n",
       "      <td>6</td>\n",
       "      <td>0.284900</td>\n",
       "      <td>3</td>\n",
       "      <td>1</td>\n",
       "      <td>2</td>\n",
       "      <td>0</td>\n",
       "    </tr>\n",
       "    <tr>\n",
       "      <th>4</th>\n",
       "      <td>10000005</td>\n",
       "      <td>17000</td>\n",
       "      <td>8</td>\n",
       "      <td>Own</td>\n",
       "      <td>96000.0</td>\n",
       "      <td>VERIFIED - income source</td>\n",
       "      <td>debt_consolidation</td>\n",
       "      <td>22.17</td>\n",
       "      <td>1</td>\n",
       "      <td>19</td>\n",
       "      <td>30</td>\n",
       "      <td>Female</td>\n",
       "      <td>11</td>\n",
       "      <td>0.177083</td>\n",
       "      <td>1</td>\n",
       "      <td>1</td>\n",
       "      <td>2</td>\n",
       "      <td>0</td>\n",
       "    </tr>\n",
       "  </tbody>\n",
       "</table>\n",
       "</div>"
      ],
      "text/plain": [
       "    Loan_ID  Loan_Amount_Requested  Length_Employed Home_Owner  Annual_Income  \\\n",
       "0  10000001                   7000                0       Rent        68000.0   \n",
       "1  10000002                  30000                4   Mortgage        63000.0   \n",
       "2  10000003                  24725                7   Mortgage        75566.4   \n",
       "3  10000004                  16000                0   Mortgage        56160.0   \n",
       "4  10000005                  17000                8        Own        96000.0   \n",
       "\n",
       "            Income_Verified     Purpose_Of_Loan  Debt_To_Income  \\\n",
       "0              not verified                 car           18.37   \n",
       "1         VERIFIED - income  debt_consolidation           14.93   \n",
       "2  VERIFIED - income source  debt_consolidation           15.88   \n",
       "3  VERIFIED - income source  debt_consolidation           14.34   \n",
       "4  VERIFIED - income source  debt_consolidation           22.17   \n",
       "\n",
       "   Inquiries_Last_6Mo  Number_Open_Accounts  Total_Accounts  Gender  \\\n",
       "0                   0                     9              14  Female   \n",
       "1                   0                    12              24  Female   \n",
       "2                   0                    12              16    Male   \n",
       "3                   3                    16              22    Male   \n",
       "4                   1                    19              30  Female   \n",
       "\n",
       "   Number_Invalid_Acc  Number_Years_To_Repay_Debt  Interest_Rate Income_label  \\\n",
       "0                   5                    0.102941              1            1   \n",
       "1                  12                    0.476190              3            1   \n",
       "2                   4                    0.327196              3            1   \n",
       "3                   6                    0.284900              3            1   \n",
       "4                  11                    0.177083              1            1   \n",
       "\n",
       "  Loan_label  Deliquency  \n",
       "0          1           0  \n",
       "1          3           1  \n",
       "2          3           0  \n",
       "3          2           0  \n",
       "4          2           0  "
      ]
     },
     "execution_count": 46,
     "metadata": {},
     "output_type": "execute_result"
    }
   ],
   "source": [
    "trains.head()"
   ]
  },
  {
   "cell_type": "markdown",
   "metadata": {
    "hidden": true
   },
   "source": [
    "#### Insights"
   ]
  },
  {
   "cell_type": "code",
   "execution_count": 47,
   "metadata": {
    "ExecuteTime": {
     "end_time": "2021-05-01T08:19:09.879031Z",
     "start_time": "2021-05-01T08:19:09.536239Z"
    },
    "hidden": true
   },
   "outputs": [
    {
     "data": {
      "text/html": [
       "<div>\n",
       "<style scoped>\n",
       "    .dataframe tbody tr th:only-of-type {\n",
       "        vertical-align: middle;\n",
       "    }\n",
       "\n",
       "    .dataframe tbody tr th {\n",
       "        vertical-align: top;\n",
       "    }\n",
       "\n",
       "    .dataframe thead th {\n",
       "        text-align: right;\n",
       "    }\n",
       "</style>\n",
       "<table border=\"1\" class=\"dataframe\">\n",
       "  <thead>\n",
       "    <tr style=\"text-align: right;\">\n",
       "      <th></th>\n",
       "      <th>count</th>\n",
       "      <th>min</th>\n",
       "      <th>max</th>\n",
       "      <th>mean</th>\n",
       "      <th>median</th>\n",
       "      <th>std</th>\n",
       "    </tr>\n",
       "    <tr>\n",
       "      <th>Length_Employed</th>\n",
       "      <th></th>\n",
       "      <th></th>\n",
       "      <th></th>\n",
       "      <th></th>\n",
       "      <th></th>\n",
       "      <th></th>\n",
       "    </tr>\n",
       "  </thead>\n",
       "  <tbody>\n",
       "    <tr>\n",
       "      <th>0</th>\n",
       "      <td>12805</td>\n",
       "      <td>500</td>\n",
       "      <td>35000</td>\n",
       "      <td>13073.049590</td>\n",
       "      <td>11200.0</td>\n",
       "      <td>8065.617881</td>\n",
       "    </tr>\n",
       "    <tr>\n",
       "      <th>1</th>\n",
       "      <td>10422</td>\n",
       "      <td>725</td>\n",
       "      <td>35000</td>\n",
       "      <td>13242.355114</td>\n",
       "      <td>11500.0</td>\n",
       "      <td>7980.595155</td>\n",
       "    </tr>\n",
       "    <tr>\n",
       "      <th>2</th>\n",
       "      <td>14620</td>\n",
       "      <td>800</td>\n",
       "      <td>35000</td>\n",
       "      <td>13592.093023</td>\n",
       "      <td>12000.0</td>\n",
       "      <td>8067.727029</td>\n",
       "    </tr>\n",
       "    <tr>\n",
       "      <th>3</th>\n",
       "      <td>12974</td>\n",
       "      <td>500</td>\n",
       "      <td>35000</td>\n",
       "      <td>13699.460459</td>\n",
       "      <td>12000.0</td>\n",
       "      <td>8011.624766</td>\n",
       "    </tr>\n",
       "    <tr>\n",
       "      <th>4</th>\n",
       "      <td>9784</td>\n",
       "      <td>900</td>\n",
       "      <td>35000</td>\n",
       "      <td>13733.130621</td>\n",
       "      <td>12000.0</td>\n",
       "      <td>7972.669287</td>\n",
       "    </tr>\n",
       "    <tr>\n",
       "      <th>5</th>\n",
       "      <td>10814</td>\n",
       "      <td>1000</td>\n",
       "      <td>35000</td>\n",
       "      <td>13850.906233</td>\n",
       "      <td>12000.0</td>\n",
       "      <td>8043.100489</td>\n",
       "    </tr>\n",
       "    <tr>\n",
       "      <th>6</th>\n",
       "      <td>9094</td>\n",
       "      <td>1000</td>\n",
       "      <td>35000</td>\n",
       "      <td>14103.216406</td>\n",
       "      <td>12000.0</td>\n",
       "      <td>8004.244626</td>\n",
       "    </tr>\n",
       "    <tr>\n",
       "      <th>7</th>\n",
       "      <td>9308</td>\n",
       "      <td>1000</td>\n",
       "      <td>35000</td>\n",
       "      <td>14439.637946</td>\n",
       "      <td>12762.5</td>\n",
       "      <td>8068.943753</td>\n",
       "    </tr>\n",
       "    <tr>\n",
       "      <th>8</th>\n",
       "      <td>7917</td>\n",
       "      <td>1000</td>\n",
       "      <td>35000</td>\n",
       "      <td>14517.361374</td>\n",
       "      <td>12975.0</td>\n",
       "      <td>8135.982141</td>\n",
       "    </tr>\n",
       "    <tr>\n",
       "      <th>9</th>\n",
       "      <td>6285</td>\n",
       "      <td>1000</td>\n",
       "      <td>35000</td>\n",
       "      <td>14850.688146</td>\n",
       "      <td>13475.0</td>\n",
       "      <td>8117.239122</td>\n",
       "    </tr>\n",
       "    <tr>\n",
       "      <th>10</th>\n",
       "      <td>60286</td>\n",
       "      <td>1000</td>\n",
       "      <td>35000</td>\n",
       "      <td>15273.559367</td>\n",
       "      <td>14000.0</td>\n",
       "      <td>8575.353980</td>\n",
       "    </tr>\n",
       "  </tbody>\n",
       "</table>\n",
       "</div>"
      ],
      "text/plain": [
       "                 count   min    max          mean   median          std\n",
       "Length_Employed                                                        \n",
       "0                12805   500  35000  13073.049590  11200.0  8065.617881\n",
       "1                10422   725  35000  13242.355114  11500.0  7980.595155\n",
       "2                14620   800  35000  13592.093023  12000.0  8067.727029\n",
       "3                12974   500  35000  13699.460459  12000.0  8011.624766\n",
       "4                 9784   900  35000  13733.130621  12000.0  7972.669287\n",
       "5                10814  1000  35000  13850.906233  12000.0  8043.100489\n",
       "6                 9094  1000  35000  14103.216406  12000.0  8004.244626\n",
       "7                 9308  1000  35000  14439.637946  12762.5  8068.943753\n",
       "8                 7917  1000  35000  14517.361374  12975.0  8135.982141\n",
       "9                 6285  1000  35000  14850.688146  13475.0  8117.239122\n",
       "10               60286  1000  35000  15273.559367  14000.0  8575.353980"
      ]
     },
     "execution_count": 47,
     "metadata": {},
     "output_type": "execute_result"
    }
   ],
   "source": [
    "trains.groupby('Length_Employed')['Loan_Amount_Requested'].agg(['count','min','max','mean','median','std']).sort_values(by='median')"
   ]
  },
  {
   "cell_type": "code",
   "execution_count": 48,
   "metadata": {
    "ExecuteTime": {
     "end_time": "2021-05-01T08:19:10.022031Z",
     "start_time": "2021-05-01T08:19:09.885995Z"
    },
    "hidden": true
   },
   "outputs": [
    {
     "data": {
      "text/html": [
       "<div>\n",
       "<style scoped>\n",
       "    .dataframe tbody tr th:only-of-type {\n",
       "        vertical-align: middle;\n",
       "    }\n",
       "\n",
       "    .dataframe tbody tr th {\n",
       "        vertical-align: top;\n",
       "    }\n",
       "\n",
       "    .dataframe thead th {\n",
       "        text-align: right;\n",
       "    }\n",
       "</style>\n",
       "<table border=\"1\" class=\"dataframe\">\n",
       "  <thead>\n",
       "    <tr style=\"text-align: right;\">\n",
       "      <th></th>\n",
       "      <th>count</th>\n",
       "      <th>min</th>\n",
       "      <th>max</th>\n",
       "      <th>mean</th>\n",
       "      <th>median</th>\n",
       "      <th>std</th>\n",
       "    </tr>\n",
       "    <tr>\n",
       "      <th>Home_Owner</th>\n",
       "      <th></th>\n",
       "      <th></th>\n",
       "      <th></th>\n",
       "      <th></th>\n",
       "      <th></th>\n",
       "      <th></th>\n",
       "    </tr>\n",
       "  </thead>\n",
       "  <tbody>\n",
       "    <tr>\n",
       "      <th>Other</th>\n",
       "      <td>49</td>\n",
       "      <td>1000</td>\n",
       "      <td>35000</td>\n",
       "      <td>10642.857143</td>\n",
       "      <td>10000</td>\n",
       "      <td>6569.131570</td>\n",
       "    </tr>\n",
       "    <tr>\n",
       "      <th>None</th>\n",
       "      <td>10</td>\n",
       "      <td>2800</td>\n",
       "      <td>15000</td>\n",
       "      <td>9420.000000</td>\n",
       "      <td>10375</td>\n",
       "      <td>3766.533921</td>\n",
       "    </tr>\n",
       "    <tr>\n",
       "      <th>Rent</th>\n",
       "      <td>56031</td>\n",
       "      <td>500</td>\n",
       "      <td>35000</td>\n",
       "      <td>12443.831986</td>\n",
       "      <td>10625</td>\n",
       "      <td>7413.272921</td>\n",
       "    </tr>\n",
       "    <tr>\n",
       "      <th>Own</th>\n",
       "      <td>12525</td>\n",
       "      <td>900</td>\n",
       "      <td>35000</td>\n",
       "      <td>13567.704591</td>\n",
       "      <td>12000</td>\n",
       "      <td>8135.510763</td>\n",
       "    </tr>\n",
       "    <tr>\n",
       "      <th>Mortgage</th>\n",
       "      <td>95694</td>\n",
       "      <td>500</td>\n",
       "      <td>35000</td>\n",
       "      <td>15569.770832</td>\n",
       "      <td>14500</td>\n",
       "      <td>8555.801557</td>\n",
       "    </tr>\n",
       "  </tbody>\n",
       "</table>\n",
       "</div>"
      ],
      "text/plain": [
       "            count   min    max          mean  median          std\n",
       "Home_Owner                                                       \n",
       "Other          49  1000  35000  10642.857143   10000  6569.131570\n",
       "None           10  2800  15000   9420.000000   10375  3766.533921\n",
       "Rent        56031   500  35000  12443.831986   10625  7413.272921\n",
       "Own         12525   900  35000  13567.704591   12000  8135.510763\n",
       "Mortgage    95694   500  35000  15569.770832   14500  8555.801557"
      ]
     },
     "execution_count": 48,
     "metadata": {},
     "output_type": "execute_result"
    }
   ],
   "source": [
    "trains.groupby('Home_Owner')['Loan_Amount_Requested'].agg(['count','min','max','mean','median','std']).sort_values(by='median')"
   ]
  },
  {
   "cell_type": "code",
   "execution_count": 49,
   "metadata": {
    "ExecuteTime": {
     "end_time": "2021-05-01T08:19:10.147998Z",
     "start_time": "2021-05-01T08:19:10.026993Z"
    },
    "hidden": true
   },
   "outputs": [
    {
     "data": {
      "text/html": [
       "<div>\n",
       "<style scoped>\n",
       "    .dataframe tbody tr th:only-of-type {\n",
       "        vertical-align: middle;\n",
       "    }\n",
       "\n",
       "    .dataframe tbody tr th {\n",
       "        vertical-align: top;\n",
       "    }\n",
       "\n",
       "    .dataframe thead th {\n",
       "        text-align: right;\n",
       "    }\n",
       "</style>\n",
       "<table border=\"1\" class=\"dataframe\">\n",
       "  <thead>\n",
       "    <tr style=\"text-align: right;\">\n",
       "      <th></th>\n",
       "      <th>count</th>\n",
       "      <th>min</th>\n",
       "      <th>max</th>\n",
       "      <th>mean</th>\n",
       "      <th>median</th>\n",
       "      <th>std</th>\n",
       "    </tr>\n",
       "    <tr>\n",
       "      <th>Purpose_Of_Loan</th>\n",
       "      <th></th>\n",
       "      <th></th>\n",
       "      <th></th>\n",
       "      <th></th>\n",
       "      <th></th>\n",
       "      <th></th>\n",
       "    </tr>\n",
       "  </thead>\n",
       "  <tbody>\n",
       "    <tr>\n",
       "      <th>vacation</th>\n",
       "      <td>837</td>\n",
       "      <td>500</td>\n",
       "      <td>35000</td>\n",
       "      <td>6300.627240</td>\n",
       "      <td>5000.0</td>\n",
       "      <td>5033.519112</td>\n",
       "    </tr>\n",
       "    <tr>\n",
       "      <th>moving</th>\n",
       "      <td>974</td>\n",
       "      <td>1000</td>\n",
       "      <td>35000</td>\n",
       "      <td>7668.814168</td>\n",
       "      <td>5375.0</td>\n",
       "      <td>6418.661738</td>\n",
       "    </tr>\n",
       "    <tr>\n",
       "      <th>car</th>\n",
       "      <td>1885</td>\n",
       "      <td>1000</td>\n",
       "      <td>35000</td>\n",
       "      <td>8053.806366</td>\n",
       "      <td>6000.0</td>\n",
       "      <td>5608.118313</td>\n",
       "    </tr>\n",
       "    <tr>\n",
       "      <th>educational</th>\n",
       "      <td>121</td>\n",
       "      <td>1000</td>\n",
       "      <td>25000</td>\n",
       "      <td>7110.123967</td>\n",
       "      <td>6000.0</td>\n",
       "      <td>4871.189300</td>\n",
       "    </tr>\n",
       "    <tr>\n",
       "      <th>medical</th>\n",
       "      <td>1541</td>\n",
       "      <td>1000</td>\n",
       "      <td>35000</td>\n",
       "      <td>8913.854640</td>\n",
       "      <td>6850.0</td>\n",
       "      <td>6923.468955</td>\n",
       "    </tr>\n",
       "    <tr>\n",
       "      <th>other</th>\n",
       "      <td>8346</td>\n",
       "      <td>500</td>\n",
       "      <td>35000</td>\n",
       "      <td>9635.493051</td>\n",
       "      <td>7662.5</td>\n",
       "      <td>7348.544112</td>\n",
       "    </tr>\n",
       "    <tr>\n",
       "      <th>major_purchase</th>\n",
       "      <td>3435</td>\n",
       "      <td>1000</td>\n",
       "      <td>35000</td>\n",
       "      <td>10394.657933</td>\n",
       "      <td>8000.0</td>\n",
       "      <td>7929.416404</td>\n",
       "    </tr>\n",
       "    <tr>\n",
       "      <th>wedding</th>\n",
       "      <td>828</td>\n",
       "      <td>1000</td>\n",
       "      <td>35000</td>\n",
       "      <td>10239.402174</td>\n",
       "      <td>8500.0</td>\n",
       "      <td>6519.794539</td>\n",
       "    </tr>\n",
       "    <tr>\n",
       "      <th>renewable_energy</th>\n",
       "      <td>123</td>\n",
       "      <td>1000</td>\n",
       "      <td>35000</td>\n",
       "      <td>10958.130081</td>\n",
       "      <td>10000.0</td>\n",
       "      <td>7810.495970</td>\n",
       "    </tr>\n",
       "    <tr>\n",
       "      <th>home_improvement</th>\n",
       "      <td>9269</td>\n",
       "      <td>900</td>\n",
       "      <td>35000</td>\n",
       "      <td>13867.466825</td>\n",
       "      <td>12000.0</td>\n",
       "      <td>8834.936431</td>\n",
       "    </tr>\n",
       "    <tr>\n",
       "      <th>credit_card</th>\n",
       "      <td>36684</td>\n",
       "      <td>725</td>\n",
       "      <td>35000</td>\n",
       "      <td>14754.313870</td>\n",
       "      <td>13000.0</td>\n",
       "      <td>7999.013687</td>\n",
       "    </tr>\n",
       "    <tr>\n",
       "      <th>house</th>\n",
       "      <td>773</td>\n",
       "      <td>1000</td>\n",
       "      <td>35000</td>\n",
       "      <td>15042.205692</td>\n",
       "      <td>13475.0</td>\n",
       "      <td>8731.603527</td>\n",
       "    </tr>\n",
       "    <tr>\n",
       "      <th>small_business</th>\n",
       "      <td>2392</td>\n",
       "      <td>500</td>\n",
       "      <td>35000</td>\n",
       "      <td>15427.456104</td>\n",
       "      <td>13600.0</td>\n",
       "      <td>9339.397600</td>\n",
       "    </tr>\n",
       "    <tr>\n",
       "      <th>debt_consolidation</th>\n",
       "      <td>97101</td>\n",
       "      <td>800</td>\n",
       "      <td>35000</td>\n",
       "      <td>15148.553568</td>\n",
       "      <td>14000.0</td>\n",
       "      <td>8164.935576</td>\n",
       "    </tr>\n",
       "  </tbody>\n",
       "</table>\n",
       "</div>"
      ],
      "text/plain": [
       "                    count   min    max          mean   median          std\n",
       "Purpose_Of_Loan                                                           \n",
       "vacation              837   500  35000   6300.627240   5000.0  5033.519112\n",
       "moving                974  1000  35000   7668.814168   5375.0  6418.661738\n",
       "car                  1885  1000  35000   8053.806366   6000.0  5608.118313\n",
       "educational           121  1000  25000   7110.123967   6000.0  4871.189300\n",
       "medical              1541  1000  35000   8913.854640   6850.0  6923.468955\n",
       "other                8346   500  35000   9635.493051   7662.5  7348.544112\n",
       "major_purchase       3435  1000  35000  10394.657933   8000.0  7929.416404\n",
       "wedding               828  1000  35000  10239.402174   8500.0  6519.794539\n",
       "renewable_energy      123  1000  35000  10958.130081  10000.0  7810.495970\n",
       "home_improvement     9269   900  35000  13867.466825  12000.0  8834.936431\n",
       "credit_card         36684   725  35000  14754.313870  13000.0  7999.013687\n",
       "house                 773  1000  35000  15042.205692  13475.0  8731.603527\n",
       "small_business       2392   500  35000  15427.456104  13600.0  9339.397600\n",
       "debt_consolidation  97101   800  35000  15148.553568  14000.0  8164.935576"
      ]
     },
     "execution_count": 49,
     "metadata": {},
     "output_type": "execute_result"
    }
   ],
   "source": [
    "trains.groupby('Purpose_Of_Loan')['Loan_Amount_Requested'].agg(['count','min','max','mean','median','std']).sort_values(by='median')"
   ]
  },
  {
   "cell_type": "code",
   "execution_count": 50,
   "metadata": {
    "ExecuteTime": {
     "end_time": "2021-05-01T08:19:11.376999Z",
     "start_time": "2021-05-01T08:19:11.316996Z"
    },
    "hidden": true
   },
   "outputs": [
    {
     "data": {
      "text/html": [
       "<div>\n",
       "<style scoped>\n",
       "    .dataframe tbody tr th:only-of-type {\n",
       "        vertical-align: middle;\n",
       "    }\n",
       "\n",
       "    .dataframe tbody tr th {\n",
       "        vertical-align: top;\n",
       "    }\n",
       "\n",
       "    .dataframe thead th {\n",
       "        text-align: right;\n",
       "    }\n",
       "</style>\n",
       "<table border=\"1\" class=\"dataframe\">\n",
       "  <thead>\n",
       "    <tr style=\"text-align: right;\">\n",
       "      <th></th>\n",
       "      <th>count</th>\n",
       "      <th>min</th>\n",
       "      <th>max</th>\n",
       "      <th>mean</th>\n",
       "      <th>median</th>\n",
       "      <th>std</th>\n",
       "    </tr>\n",
       "    <tr>\n",
       "      <th>Interest_Rate</th>\n",
       "      <th></th>\n",
       "      <th></th>\n",
       "      <th></th>\n",
       "      <th></th>\n",
       "      <th></th>\n",
       "      <th></th>\n",
       "    </tr>\n",
       "  </thead>\n",
       "  <tbody>\n",
       "    <tr>\n",
       "      <th>1</th>\n",
       "      <td>33806</td>\n",
       "      <td>500</td>\n",
       "      <td>35000</td>\n",
       "      <td>13351.443531</td>\n",
       "      <td>12000</td>\n",
       "      <td>7307.255920</td>\n",
       "    </tr>\n",
       "    <tr>\n",
       "      <th>2</th>\n",
       "      <td>70580</td>\n",
       "      <td>500</td>\n",
       "      <td>35000</td>\n",
       "      <td>13419.251913</td>\n",
       "      <td>12000</td>\n",
       "      <td>7759.823178</td>\n",
       "    </tr>\n",
       "    <tr>\n",
       "      <th>3</th>\n",
       "      <td>59923</td>\n",
       "      <td>1000</td>\n",
       "      <td>35000</td>\n",
       "      <td>16007.801679</td>\n",
       "      <td>15000</td>\n",
       "      <td>9093.711445</td>\n",
       "    </tr>\n",
       "  </tbody>\n",
       "</table>\n",
       "</div>"
      ],
      "text/plain": [
       "               count   min    max          mean  median          std\n",
       "Interest_Rate                                                       \n",
       "1              33806   500  35000  13351.443531   12000  7307.255920\n",
       "2              70580   500  35000  13419.251913   12000  7759.823178\n",
       "3              59923  1000  35000  16007.801679   15000  9093.711445"
      ]
     },
     "execution_count": 50,
     "metadata": {},
     "output_type": "execute_result"
    }
   ],
   "source": [
    "trains.groupby('Interest_Rate')['Loan_Amount_Requested'].agg(['count','min','max','mean','median','std']).sort_values(by='mean')"
   ]
  },
  {
   "cell_type": "code",
   "execution_count": 51,
   "metadata": {
    "ExecuteTime": {
     "end_time": "2021-05-01T08:19:11.836998Z",
     "start_time": "2021-05-01T08:19:11.775994Z"
    },
    "hidden": true
   },
   "outputs": [
    {
     "data": {
      "text/html": [
       "<div>\n",
       "<style scoped>\n",
       "    .dataframe tbody tr th:only-of-type {\n",
       "        vertical-align: middle;\n",
       "    }\n",
       "\n",
       "    .dataframe tbody tr th {\n",
       "        vertical-align: top;\n",
       "    }\n",
       "\n",
       "    .dataframe thead th {\n",
       "        text-align: right;\n",
       "    }\n",
       "</style>\n",
       "<table border=\"1\" class=\"dataframe\">\n",
       "  <thead>\n",
       "    <tr style=\"text-align: right;\">\n",
       "      <th></th>\n",
       "      <th>count</th>\n",
       "      <th>min</th>\n",
       "      <th>max</th>\n",
       "      <th>mean</th>\n",
       "      <th>median</th>\n",
       "      <th>std</th>\n",
       "    </tr>\n",
       "    <tr>\n",
       "      <th>Interest_Rate</th>\n",
       "      <th></th>\n",
       "      <th></th>\n",
       "      <th></th>\n",
       "      <th></th>\n",
       "      <th></th>\n",
       "      <th></th>\n",
       "    </tr>\n",
       "  </thead>\n",
       "  <tbody>\n",
       "    <tr>\n",
       "      <th>1</th>\n",
       "      <td>33806</td>\n",
       "      <td>5000.0</td>\n",
       "      <td>4900000.0</td>\n",
       "      <td>78503.289623</td>\n",
       "      <td>63000.0</td>\n",
       "      <td>56552.869715</td>\n",
       "    </tr>\n",
       "    <tr>\n",
       "      <th>2</th>\n",
       "      <td>70580</td>\n",
       "      <td>4000.0</td>\n",
       "      <td>7141778.0</td>\n",
       "      <td>69936.895009</td>\n",
       "      <td>63000.0</td>\n",
       "      <td>54506.035531</td>\n",
       "    </tr>\n",
       "    <tr>\n",
       "      <th>3</th>\n",
       "      <td>59923</td>\n",
       "      <td>4800.0</td>\n",
       "      <td>7500000.0</td>\n",
       "      <td>70083.414592</td>\n",
       "      <td>63000.0</td>\n",
       "      <td>56309.359278</td>\n",
       "    </tr>\n",
       "  </tbody>\n",
       "</table>\n",
       "</div>"
      ],
      "text/plain": [
       "               count     min        max          mean   median           std\n",
       "Interest_Rate                                                               \n",
       "1              33806  5000.0  4900000.0  78503.289623  63000.0  56552.869715\n",
       "2              70580  4000.0  7141778.0  69936.895009  63000.0  54506.035531\n",
       "3              59923  4800.0  7500000.0  70083.414592  63000.0  56309.359278"
      ]
     },
     "execution_count": 51,
     "metadata": {},
     "output_type": "execute_result"
    }
   ],
   "source": [
    "trains.groupby('Interest_Rate')['Annual_Income'].agg(['count','min','max','mean','median','std']).sort_values(by='median')"
   ]
  },
  {
   "cell_type": "markdown",
   "metadata": {
    "heading_collapsed": true
   },
   "source": [
    "### Modelling"
   ]
  },
  {
   "cell_type": "code",
   "execution_count": 85,
   "metadata": {
    "ExecuteTime": {
     "end_time": "2021-05-01T09:28:40.548026Z",
     "start_time": "2021-05-01T09:28:40.318021Z"
    },
    "hidden": true
   },
   "outputs": [],
   "source": [
    "df_new = trains.append(tests)"
   ]
  },
  {
   "cell_type": "code",
   "execution_count": 86,
   "metadata": {
    "ExecuteTime": {
     "end_time": "2021-05-01T09:28:42.242411Z",
     "start_time": "2021-05-01T09:28:41.719041Z"
    },
    "hidden": true
   },
   "outputs": [],
   "source": [
    "cat_columns = ['Home_Owner','Income_Verified','Purpose_Of_Loan','Gender']\n",
    "le = LabelEncoder() \n",
    "\n",
    "for columns in cat_columns:\n",
    "    df_new[columns]= le.fit_transform(df_new[columns]) "
   ]
  },
  {
   "cell_type": "code",
   "execution_count": 87,
   "metadata": {
    "ExecuteTime": {
     "end_time": "2021-05-01T09:28:44.150987Z",
     "start_time": "2021-05-01T09:28:43.937930Z"
    },
    "hidden": true
   },
   "outputs": [],
   "source": [
    "df_new = pd.get_dummies(df_new)\n",
    "train_df = df_new[df_new['Interest_Rate'].isna() == False].drop(\"Loan_ID\",axis=1)\n",
    "test_df = df_new[df_new['Interest_Rate'].isna() == True]"
   ]
  },
  {
   "cell_type": "code",
   "execution_count": 88,
   "metadata": {
    "ExecuteTime": {
     "end_time": "2021-05-01T09:28:45.557887Z",
     "start_time": "2021-05-01T09:28:45.505891Z"
    },
    "hidden": true
   },
   "outputs": [
    {
     "data": {
      "text/html": [
       "<div>\n",
       "<style scoped>\n",
       "    .dataframe tbody tr th:only-of-type {\n",
       "        vertical-align: middle;\n",
       "    }\n",
       "\n",
       "    .dataframe tbody tr th {\n",
       "        vertical-align: top;\n",
       "    }\n",
       "\n",
       "    .dataframe thead th {\n",
       "        text-align: right;\n",
       "    }\n",
       "</style>\n",
       "<table border=\"1\" class=\"dataframe\">\n",
       "  <thead>\n",
       "    <tr style=\"text-align: right;\">\n",
       "      <th></th>\n",
       "      <th>Loan_Amount_Requested</th>\n",
       "      <th>Length_Employed</th>\n",
       "      <th>Home_Owner</th>\n",
       "      <th>Annual_Income</th>\n",
       "      <th>Income_Verified</th>\n",
       "      <th>Purpose_Of_Loan</th>\n",
       "      <th>Debt_To_Income</th>\n",
       "      <th>Inquiries_Last_6Mo</th>\n",
       "      <th>Number_Open_Accounts</th>\n",
       "      <th>Total_Accounts</th>\n",
       "      <th>...</th>\n",
       "      <th>Number_Invalid_Acc</th>\n",
       "      <th>Number_Years_To_Repay_Debt</th>\n",
       "      <th>Interest_Rate</th>\n",
       "      <th>Deliquency</th>\n",
       "      <th>Income_label_1</th>\n",
       "      <th>Income_label_2</th>\n",
       "      <th>Income_label_3</th>\n",
       "      <th>Loan_label_1</th>\n",
       "      <th>Loan_label_2</th>\n",
       "      <th>Loan_label_3</th>\n",
       "    </tr>\n",
       "  </thead>\n",
       "  <tbody>\n",
       "    <tr>\n",
       "      <th>0</th>\n",
       "      <td>7000</td>\n",
       "      <td>0</td>\n",
       "      <td>4</td>\n",
       "      <td>68000.0</td>\n",
       "      <td>2</td>\n",
       "      <td>0</td>\n",
       "      <td>18.37</td>\n",
       "      <td>0</td>\n",
       "      <td>9</td>\n",
       "      <td>14</td>\n",
       "      <td>...</td>\n",
       "      <td>5</td>\n",
       "      <td>0.102941</td>\n",
       "      <td>1.0</td>\n",
       "      <td>0</td>\n",
       "      <td>1</td>\n",
       "      <td>0</td>\n",
       "      <td>0</td>\n",
       "      <td>1</td>\n",
       "      <td>0</td>\n",
       "      <td>0</td>\n",
       "    </tr>\n",
       "    <tr>\n",
       "      <th>1</th>\n",
       "      <td>30000</td>\n",
       "      <td>4</td>\n",
       "      <td>0</td>\n",
       "      <td>63000.0</td>\n",
       "      <td>0</td>\n",
       "      <td>2</td>\n",
       "      <td>14.93</td>\n",
       "      <td>0</td>\n",
       "      <td>12</td>\n",
       "      <td>24</td>\n",
       "      <td>...</td>\n",
       "      <td>12</td>\n",
       "      <td>0.476190</td>\n",
       "      <td>3.0</td>\n",
       "      <td>1</td>\n",
       "      <td>1</td>\n",
       "      <td>0</td>\n",
       "      <td>0</td>\n",
       "      <td>0</td>\n",
       "      <td>0</td>\n",
       "      <td>1</td>\n",
       "    </tr>\n",
       "    <tr>\n",
       "      <th>2</th>\n",
       "      <td>24725</td>\n",
       "      <td>7</td>\n",
       "      <td>0</td>\n",
       "      <td>75566.4</td>\n",
       "      <td>1</td>\n",
       "      <td>2</td>\n",
       "      <td>15.88</td>\n",
       "      <td>0</td>\n",
       "      <td>12</td>\n",
       "      <td>16</td>\n",
       "      <td>...</td>\n",
       "      <td>4</td>\n",
       "      <td>0.327196</td>\n",
       "      <td>3.0</td>\n",
       "      <td>0</td>\n",
       "      <td>1</td>\n",
       "      <td>0</td>\n",
       "      <td>0</td>\n",
       "      <td>0</td>\n",
       "      <td>0</td>\n",
       "      <td>1</td>\n",
       "    </tr>\n",
       "    <tr>\n",
       "      <th>3</th>\n",
       "      <td>16000</td>\n",
       "      <td>0</td>\n",
       "      <td>0</td>\n",
       "      <td>56160.0</td>\n",
       "      <td>1</td>\n",
       "      <td>2</td>\n",
       "      <td>14.34</td>\n",
       "      <td>3</td>\n",
       "      <td>16</td>\n",
       "      <td>22</td>\n",
       "      <td>...</td>\n",
       "      <td>6</td>\n",
       "      <td>0.284900</td>\n",
       "      <td>3.0</td>\n",
       "      <td>0</td>\n",
       "      <td>1</td>\n",
       "      <td>0</td>\n",
       "      <td>0</td>\n",
       "      <td>0</td>\n",
       "      <td>1</td>\n",
       "      <td>0</td>\n",
       "    </tr>\n",
       "    <tr>\n",
       "      <th>4</th>\n",
       "      <td>17000</td>\n",
       "      <td>8</td>\n",
       "      <td>3</td>\n",
       "      <td>96000.0</td>\n",
       "      <td>1</td>\n",
       "      <td>2</td>\n",
       "      <td>22.17</td>\n",
       "      <td>1</td>\n",
       "      <td>19</td>\n",
       "      <td>30</td>\n",
       "      <td>...</td>\n",
       "      <td>11</td>\n",
       "      <td>0.177083</td>\n",
       "      <td>1.0</td>\n",
       "      <td>0</td>\n",
       "      <td>1</td>\n",
       "      <td>0</td>\n",
       "      <td>0</td>\n",
       "      <td>0</td>\n",
       "      <td>1</td>\n",
       "      <td>0</td>\n",
       "    </tr>\n",
       "  </tbody>\n",
       "</table>\n",
       "<p>5 rows × 21 columns</p>\n",
       "</div>"
      ],
      "text/plain": [
       "   Loan_Amount_Requested  Length_Employed  Home_Owner  Annual_Income  \\\n",
       "0                   7000                0           4        68000.0   \n",
       "1                  30000                4           0        63000.0   \n",
       "2                  24725                7           0        75566.4   \n",
       "3                  16000                0           0        56160.0   \n",
       "4                  17000                8           3        96000.0   \n",
       "\n",
       "   Income_Verified  Purpose_Of_Loan  Debt_To_Income  Inquiries_Last_6Mo  \\\n",
       "0                2                0           18.37                   0   \n",
       "1                0                2           14.93                   0   \n",
       "2                1                2           15.88                   0   \n",
       "3                1                2           14.34                   3   \n",
       "4                1                2           22.17                   1   \n",
       "\n",
       "   Number_Open_Accounts  Total_Accounts  ...  Number_Invalid_Acc  \\\n",
       "0                     9              14  ...                   5   \n",
       "1                    12              24  ...                  12   \n",
       "2                    12              16  ...                   4   \n",
       "3                    16              22  ...                   6   \n",
       "4                    19              30  ...                  11   \n",
       "\n",
       "   Number_Years_To_Repay_Debt  Interest_Rate  Deliquency  Income_label_1  \\\n",
       "0                    0.102941            1.0           0               1   \n",
       "1                    0.476190            3.0           1               1   \n",
       "2                    0.327196            3.0           0               1   \n",
       "3                    0.284900            3.0           0               1   \n",
       "4                    0.177083            1.0           0               1   \n",
       "\n",
       "   Income_label_2  Income_label_3  Loan_label_1  Loan_label_2  Loan_label_3  \n",
       "0               0               0             1             0             0  \n",
       "1               0               0             0             0             1  \n",
       "2               0               0             0             0             1  \n",
       "3               0               0             0             1             0  \n",
       "4               0               0             0             1             0  \n",
       "\n",
       "[5 rows x 21 columns]"
      ]
     },
     "execution_count": 88,
     "metadata": {},
     "output_type": "execute_result"
    }
   ],
   "source": [
    "train_df.head()"
   ]
  },
  {
   "cell_type": "code",
   "execution_count": 76,
   "metadata": {
    "ExecuteTime": {
     "end_time": "2021-05-01T08:59:36.902778Z",
     "start_time": "2021-05-01T08:59:36.808740Z"
    },
    "hidden": true
   },
   "outputs": [
    {
     "name": "stdout",
     "output_type": "stream",
     "text": [
      "(131447, 20) (32862, 20) (131447,) (32862,)\n"
     ]
    }
   ],
   "source": [
    "X_train, X_test, y_train, y_test = train_test_split(train_df.drop(['Interest_Rate'], axis = 1), \n",
    "                                                    train_df['Interest_Rate'], test_size = 0.2, \n",
    "                                                    random_state = 2)\n",
    "print(X_train.shape, X_test.shape, y_train.shape, y_test.shape)"
   ]
  },
  {
   "cell_type": "code",
   "execution_count": 89,
   "metadata": {
    "ExecuteTime": {
     "end_time": "2021-05-01T09:28:56.127654Z",
     "start_time": "2021-05-01T09:28:56.054653Z"
    },
    "hidden": true
   },
   "outputs": [
    {
     "data": {
      "text/html": [
       "<div>\n",
       "<style scoped>\n",
       "    .dataframe tbody tr th:only-of-type {\n",
       "        vertical-align: middle;\n",
       "    }\n",
       "\n",
       "    .dataframe tbody tr th {\n",
       "        vertical-align: top;\n",
       "    }\n",
       "\n",
       "    .dataframe thead th {\n",
       "        text-align: right;\n",
       "    }\n",
       "</style>\n",
       "<table border=\"1\" class=\"dataframe\">\n",
       "  <thead>\n",
       "    <tr style=\"text-align: right;\">\n",
       "      <th></th>\n",
       "      <th>Loan_ID</th>\n",
       "      <th>Loan_Amount_Requested</th>\n",
       "      <th>Length_Employed</th>\n",
       "      <th>Home_Owner</th>\n",
       "      <th>Annual_Income</th>\n",
       "      <th>Income_Verified</th>\n",
       "      <th>Purpose_Of_Loan</th>\n",
       "      <th>Debt_To_Income</th>\n",
       "      <th>Inquiries_Last_6Mo</th>\n",
       "      <th>Number_Open_Accounts</th>\n",
       "      <th>...</th>\n",
       "      <th>Number_Invalid_Acc</th>\n",
       "      <th>Number_Years_To_Repay_Debt</th>\n",
       "      <th>Interest_Rate</th>\n",
       "      <th>Deliquency</th>\n",
       "      <th>Income_label_1</th>\n",
       "      <th>Income_label_2</th>\n",
       "      <th>Income_label_3</th>\n",
       "      <th>Loan_label_1</th>\n",
       "      <th>Loan_label_2</th>\n",
       "      <th>Loan_label_3</th>\n",
       "    </tr>\n",
       "  </thead>\n",
       "  <tbody>\n",
       "    <tr>\n",
       "      <th>0</th>\n",
       "      <td>10164310</td>\n",
       "      <td>27500</td>\n",
       "      <td>10</td>\n",
       "      <td>0</td>\n",
       "      <td>129000.0</td>\n",
       "      <td>0</td>\n",
       "      <td>2</td>\n",
       "      <td>12.87</td>\n",
       "      <td>0</td>\n",
       "      <td>10</td>\n",
       "      <td>...</td>\n",
       "      <td>27</td>\n",
       "      <td>0.213178</td>\n",
       "      <td>NaN</td>\n",
       "      <td>1</td>\n",
       "      <td>1</td>\n",
       "      <td>0</td>\n",
       "      <td>0</td>\n",
       "      <td>0</td>\n",
       "      <td>0</td>\n",
       "      <td>1</td>\n",
       "    </tr>\n",
       "    <tr>\n",
       "      <th>1</th>\n",
       "      <td>10164311</td>\n",
       "      <td>26000</td>\n",
       "      <td>10</td>\n",
       "      <td>0</td>\n",
       "      <td>110000.0</td>\n",
       "      <td>2</td>\n",
       "      <td>1</td>\n",
       "      <td>11.37</td>\n",
       "      <td>0</td>\n",
       "      <td>6</td>\n",
       "      <td>...</td>\n",
       "      <td>17</td>\n",
       "      <td>0.236364</td>\n",
       "      <td>NaN</td>\n",
       "      <td>0</td>\n",
       "      <td>1</td>\n",
       "      <td>0</td>\n",
       "      <td>0</td>\n",
       "      <td>0</td>\n",
       "      <td>0</td>\n",
       "      <td>1</td>\n",
       "    </tr>\n",
       "    <tr>\n",
       "      <th>2</th>\n",
       "      <td>10164312</td>\n",
       "      <td>6075</td>\n",
       "      <td>0</td>\n",
       "      <td>4</td>\n",
       "      <td>75000.0</td>\n",
       "      <td>0</td>\n",
       "      <td>2</td>\n",
       "      <td>6.83</td>\n",
       "      <td>2</td>\n",
       "      <td>5</td>\n",
       "      <td>...</td>\n",
       "      <td>15</td>\n",
       "      <td>0.081000</td>\n",
       "      <td>NaN</td>\n",
       "      <td>0</td>\n",
       "      <td>1</td>\n",
       "      <td>0</td>\n",
       "      <td>0</td>\n",
       "      <td>1</td>\n",
       "      <td>0</td>\n",
       "      <td>0</td>\n",
       "    </tr>\n",
       "    <tr>\n",
       "      <th>3</th>\n",
       "      <td>10164313</td>\n",
       "      <td>12000</td>\n",
       "      <td>10</td>\n",
       "      <td>0</td>\n",
       "      <td>73000.0</td>\n",
       "      <td>1</td>\n",
       "      <td>2</td>\n",
       "      <td>7.76</td>\n",
       "      <td>0</td>\n",
       "      <td>6</td>\n",
       "      <td>...</td>\n",
       "      <td>2</td>\n",
       "      <td>0.164384</td>\n",
       "      <td>NaN</td>\n",
       "      <td>0</td>\n",
       "      <td>1</td>\n",
       "      <td>0</td>\n",
       "      <td>0</td>\n",
       "      <td>1</td>\n",
       "      <td>0</td>\n",
       "      <td>0</td>\n",
       "    </tr>\n",
       "    <tr>\n",
       "      <th>4</th>\n",
       "      <td>10164314</td>\n",
       "      <td>35000</td>\n",
       "      <td>0</td>\n",
       "      <td>0</td>\n",
       "      <td>156000.0</td>\n",
       "      <td>2</td>\n",
       "      <td>2</td>\n",
       "      <td>9.62</td>\n",
       "      <td>0</td>\n",
       "      <td>9</td>\n",
       "      <td>...</td>\n",
       "      <td>12</td>\n",
       "      <td>0.224359</td>\n",
       "      <td>NaN</td>\n",
       "      <td>1</td>\n",
       "      <td>1</td>\n",
       "      <td>0</td>\n",
       "      <td>0</td>\n",
       "      <td>0</td>\n",
       "      <td>0</td>\n",
       "      <td>1</td>\n",
       "    </tr>\n",
       "  </tbody>\n",
       "</table>\n",
       "<p>5 rows × 22 columns</p>\n",
       "</div>"
      ],
      "text/plain": [
       "    Loan_ID  Loan_Amount_Requested  Length_Employed  Home_Owner  \\\n",
       "0  10164310                  27500               10           0   \n",
       "1  10164311                  26000               10           0   \n",
       "2  10164312                   6075                0           4   \n",
       "3  10164313                  12000               10           0   \n",
       "4  10164314                  35000                0           0   \n",
       "\n",
       "   Annual_Income  Income_Verified  Purpose_Of_Loan  Debt_To_Income  \\\n",
       "0       129000.0                0                2           12.87   \n",
       "1       110000.0                2                1           11.37   \n",
       "2        75000.0                0                2            6.83   \n",
       "3        73000.0                1                2            7.76   \n",
       "4       156000.0                2                2            9.62   \n",
       "\n",
       "   Inquiries_Last_6Mo  Number_Open_Accounts  ...  Number_Invalid_Acc  \\\n",
       "0                   0                    10  ...                  27   \n",
       "1                   0                     6  ...                  17   \n",
       "2                   2                     5  ...                  15   \n",
       "3                   0                     6  ...                   2   \n",
       "4                   0                     9  ...                  12   \n",
       "\n",
       "   Number_Years_To_Repay_Debt  Interest_Rate  Deliquency  Income_label_1  \\\n",
       "0                    0.213178            NaN           1               1   \n",
       "1                    0.236364            NaN           0               1   \n",
       "2                    0.081000            NaN           0               1   \n",
       "3                    0.164384            NaN           0               1   \n",
       "4                    0.224359            NaN           1               1   \n",
       "\n",
       "   Income_label_2  Income_label_3  Loan_label_1  Loan_label_2  Loan_label_3  \n",
       "0               0               0             0             0             1  \n",
       "1               0               0             0             0             1  \n",
       "2               0               0             1             0             0  \n",
       "3               0               0             1             0             0  \n",
       "4               0               0             0             0             1  \n",
       "\n",
       "[5 rows x 22 columns]"
      ]
     },
     "execution_count": 89,
     "metadata": {},
     "output_type": "execute_result"
    }
   ],
   "source": [
    "test_df.head()"
   ]
  },
  {
   "cell_type": "code",
   "execution_count": 56,
   "metadata": {
    "ExecuteTime": {
     "end_time": "2021-04-24T02:38:14.059809Z",
     "start_time": "2021-04-24T02:03:10.313594Z"
    },
    "hidden": true
   },
   "outputs": [
    {
     "name": "stdout",
     "output_type": "stream",
     "text": [
      "Fitting 15 folds for each of 12 candidates, totalling 180 fits\n",
      "Best: 0.505380 using {'C': 1, 'penalty': 'l2', 'solver': 'newton-cg'}\n"
     ]
    }
   ],
   "source": [
    "model_logreg = LogisticRegression()\n",
    "solvers = ['newton-cg', 'lbfgs', 'liblinear']\n",
    "penalty = ['l2']\n",
    "c_values = [100,10,1,0.1]\n",
    "grid1 = dict(solver= solvers, penalty= penalty,C=c_values)\n",
    "\n",
    "cv = RepeatedStratifiedKFold(n_splits= 5,n_repeats=3,random_state=1)\n",
    "grid_search = GridSearchCV(estimator=model_logreg, param_grid=grid1, n_jobs=-1, cv=cv, scoring=\"accuracy\", verbose=1, error_score=0)\n",
    "grid_result = grid_search.fit(X_train,y_train)\n",
    "\n",
    "print(\"Best: %f using %s\" % (grid_result.best_score_, grid_result.best_params_))"
   ]
  },
  {
   "cell_type": "code",
   "execution_count": 90,
   "metadata": {
    "ExecuteTime": {
     "end_time": "2021-05-01T09:36:28.703230Z",
     "start_time": "2021-05-01T09:34:49.472589Z"
    },
    "hidden": true
   },
   "outputs": [],
   "source": [
    "logreg = LogisticRegression(solver = 'newton-cg' ,penalty='l2',C= 1)\n",
    "logreg.fit(train_df.drop(['Interest_Rate'], axis = 1), train_df[['Interest_Rate']])\n",
    "pickle.dump(logreg, open('logisticRegression.pkl','wb'))"
   ]
  },
  {
   "cell_type": "code",
   "execution_count": 106,
   "metadata": {
    "ExecuteTime": {
     "end_time": "2021-05-01T10:35:02.441684Z",
     "start_time": "2021-05-01T10:35:01.103677Z"
    },
    "hidden": true
   },
   "outputs": [],
   "source": [
    "test_df.to_csv(\"test_dataset.csv\",index=False)"
   ]
  }
 ],
 "metadata": {
  "hide_input": false,
  "kernelspec": {
   "display_name": "Python 3",
   "language": "python",
   "name": "python3"
  },
  "language_info": {
   "codemirror_mode": {
    "name": "ipython",
    "version": 3
   },
   "file_extension": ".py",
   "mimetype": "text/x-python",
   "name": "python",
   "nbconvert_exporter": "python",
   "pygments_lexer": "ipython3",
   "version": "3.7.4"
  },
  "toc": {
   "base_numbering": 1,
   "nav_menu": {},
   "number_sections": true,
   "sideBar": true,
   "skip_h1_title": false,
   "title_cell": "Table of Contents",
   "title_sidebar": "Contents",
   "toc_cell": false,
   "toc_position": {},
   "toc_section_display": true,
   "toc_window_display": false
  },
  "varInspector": {
   "cols": {
    "lenName": 16,
    "lenType": 16,
    "lenVar": 40
   },
   "kernels_config": {
    "python": {
     "delete_cmd_postfix": "",
     "delete_cmd_prefix": "del ",
     "library": "var_list.py",
     "varRefreshCmd": "print(var_dic_list())"
    },
    "r": {
     "delete_cmd_postfix": ") ",
     "delete_cmd_prefix": "rm(",
     "library": "var_list.r",
     "varRefreshCmd": "cat(var_dic_list()) "
    }
   },
   "oldHeight": 122.22200000000001,
   "position": {
    "height": "40px",
    "left": "582.444px",
    "right": "20px",
    "top": "120px",
    "width": "250px"
   },
   "types_to_exclude": [
    "module",
    "function",
    "builtin_function_or_method",
    "instance",
    "_Feature"
   ],
   "varInspector_section_display": "none",
   "window_display": true
  }
 },
 "nbformat": 4,
 "nbformat_minor": 2
}
